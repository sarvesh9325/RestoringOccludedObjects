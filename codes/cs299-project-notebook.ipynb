{
 "cells": [
  {
   "cell_type": "markdown",
   "metadata": {},
   "source": [
    "# **RESTORING OCCLUDED OBJECTS: FROM DETECTION TO 3D RECONSTRUCTION**"
   ]
  },
  {
   "cell_type": "markdown",
   "metadata": {},
   "source": [
    "****"
   ]
  },
  {
   "cell_type": "markdown",
   "metadata": {},
   "source": [
    "# **AIM:**\n",
    "To implement a comprehensive vision pipeline that:\n",
    "- Detects objects using a pre-trained YOLO model.\n",
    "- Segments objects using Segment Anything Model (SAM).\n",
    "- Applies Super-Resolution to segmented masks using Real-ESRGAN.\n",
    "- Performs Inpainting using an Autoencoder on the super-resolved masks.\n",
    "- Enchances inpainted results again using Real-ESRGAN."
   ]
  },
  {
   "cell_type": "markdown",
   "metadata": {},
   "source": [
    "**Install necessary libraries and dependencies**"
   ]
  },
  {
   "cell_type": "code",
   "execution_count": 12,
   "metadata": {
    "_cell_guid": "4d0ecc2b-0c89-42a1-a006-0cc6937a53a5",
    "_uuid": "e163960d-fd6b-4635-a0f6-19aecc2def7a",
    "collapsed": false,
    "execution": {
     "iopub.execute_input": "2025-04-19T20:56:46.064032Z",
     "iopub.status.busy": "2025-04-19T20:56:46.063619Z",
     "iopub.status.idle": "2025-04-19T20:57:19.655726Z",
     "shell.execute_reply": "2025-04-19T20:57:19.654833Z",
     "shell.execute_reply.started": "2025-04-19T20:56:46.064001Z"
    },
    "jupyter": {
     "outputs_hidden": false
    },
    "trusted": true
   },
   "outputs": [
    {
     "name": "stdout",
     "output_type": "stream",
     "text": [
      "\u001b[2K   \u001b[90m━━━━━━━━━━━━━━━━━━━━━━━━━━━━━━━━━━━━━━━━\u001b[0m \u001b[32m978.8/978.8 kB\u001b[0m \u001b[31m29.4 MB/s\u001b[0m eta \u001b[36m0:00:00\u001b[0m\n",
      "\u001b[?25h  Preparing metadata (setup.py) ... \u001b[?25l\u001b[?25hdone\n",
      "\u001b[2K   \u001b[90m━━━━━━━━━━━━━━━━━━━━━━━━━━━━━━━━━━━━━━━━\u001b[0m \u001b[32m151.5/151.5 kB\u001b[0m \u001b[31m6.8 MB/s\u001b[0m eta \u001b[36m0:00:00\u001b[0m\n",
      "\u001b[2K   \u001b[90m━━━━━━━━━━━━━━━━━━━━━━━━━━━━━━━━━━━━━━━━\u001b[0m \u001b[32m85.2/85.2 kB\u001b[0m \u001b[31m5.4 MB/s\u001b[0m eta \u001b[36m0:00:00\u001b[0m\n",
      "\u001b[2K   \u001b[90m━━━━━━━━━━━━━━━━━━━━━━━━━━━━━━━━━━━━━━━━\u001b[0m \u001b[32m66.8/66.8 kB\u001b[0m \u001b[31m4.2 MB/s\u001b[0m eta \u001b[36m0:00:00\u001b[0m\n",
      "\u001b[2K   \u001b[90m━━━━━━━━━━━━━━━━━━━━━━━━━━━━━━━━━━━━━━━━\u001b[0m \u001b[32m220.7/220.7 kB\u001b[0m \u001b[31m11.6 MB/s\u001b[0m eta \u001b[36m0:00:00\u001b[0m\n",
      "\u001b[2K   \u001b[90m━━━━━━━━━━━━━━━━━━━━━━━━━━━━━━━━━━━━━━━━\u001b[0m \u001b[32m7.8/7.8 MB\u001b[0m \u001b[31m91.1 MB/s\u001b[0m eta \u001b[36m0:00:00\u001b[0m:00:01\u001b[0m00:01\u001b[0m\n",
      "\u001b[2K   \u001b[90m━━━━━━━━━━━━━━━━━━━━━━━━━━━━━━━━━━━━━━━━\u001b[0m \u001b[32m774.9/774.9 kB\u001b[0m \u001b[31m37.8 MB/s\u001b[0m eta \u001b[36m0:00:00\u001b[0m\n",
      "\u001b[?25h\u001b[31mERROR: pip's dependency resolver does not currently take into account all the packages that are installed. This behaviour is the source of the following dependency conflicts.\n",
      "tensorflow-decision-forests 1.10.0 requires tensorflow==2.17.0, but you have tensorflow 2.17.1 which is incompatible.\u001b[0m\u001b[31m\n",
      "\u001b[2K   \u001b[90m━━━━━━━━━━━━━━━━━━━━━━━━━━━━━━━━━━━━━━━━\u001b[0m \u001b[32m1.3/1.3 MB\u001b[0m \u001b[31m19.8 MB/s\u001b[0m eta \u001b[36m0:00:00\u001b[0ma \u001b[36m0:00:01\u001b[0m\n",
      "\u001b[?25h\u001b[31mERROR: pip's dependency resolver does not currently take into account all the packages that are installed. This behaviour is the source of the following dependency conflicts.\n",
      "pandas-gbq 0.25.0 requires google-api-core<3.0.0dev,>=2.10.2, but you have google-api-core 1.34.1 which is incompatible.\n",
      "pytorch-lightning 2.5.0.post0 requires torch>=2.1.0, but you have torch 1.11.0 which is incompatible.\n",
      "tensorflow-decision-forests 1.10.0 requires tensorflow==2.17.0, but you have tensorflow 2.17.1 which is incompatible.\n",
      "torchmetrics 1.6.1 requires torch>=2.0.0, but you have torch 1.11.0 which is incompatible.\u001b[0m\u001b[31m\n",
      "\u001b[0m"
     ]
    }
   ],
   "source": [
    "!pip install -qq ultralytics\n",
    "!pip install -qq 'git+https://github.com/facebookresearch/segment-anything.git'\n",
    "!pip install -qq jupyter_bbox_widget roboflow dataclasses-json supervision==0.23.0\n",
    "!pip uninstall -qq setuptools -y && pip install -qq setuptools"
   ]
  },
  {
   "cell_type": "markdown",
   "metadata": {},
   "source": [
    "**Setup Real-ESRGAN environment**"
   ]
  },
  {
   "cell_type": "code",
   "execution_count": 1,
   "metadata": {
    "_cell_guid": "d14c1f48-d09c-4c48-8813-3f61191330c1",
    "_uuid": "3e49680b-aeb1-40ac-b86c-457943942a26",
    "collapsed": false,
    "execution": {
     "iopub.execute_input": "2025-04-19T20:10:56.522744Z",
     "iopub.status.busy": "2025-04-19T20:10:56.522489Z",
     "iopub.status.idle": "2025-04-19T20:12:23.226086Z",
     "shell.execute_reply": "2025-04-19T20:12:23.225166Z",
     "shell.execute_reply.started": "2025-04-19T20:10:56.522714Z"
    },
    "jupyter": {
     "outputs_hidden": false
    },
    "trusted": true
   },
   "outputs": [
    {
     "name": "stdout",
     "output_type": "stream",
     "text": [
      "\u001b[33mWARNING: Skipping realesrgan as it is not installed.\u001b[0m\u001b[33m\n",
      "\u001b[2K     \u001b[90m━━━━━━━━━━━━━━━━━━━━━━━━━━━━━━━━━━━━━━━━\u001b[0m \u001b[32m172.5/172.5 kB\u001b[0m \u001b[31m5.3 MB/s\u001b[0m eta \u001b[36m0:00:00\u001b[0m\n",
      "\u001b[?25h  Preparing metadata (setup.py) ... \u001b[?25l\u001b[?25hdone\n",
      "\u001b[2K     \u001b[90m━━━━━━━━━━━━━━━━━━━━━━━━━━━━━━━━━━━━━━━━\u001b[0m \u001b[32m46.8/46.8 kB\u001b[0m \u001b[31m3.2 MB/s\u001b[0m eta \u001b[36m0:00:00\u001b[0m\n",
      "\u001b[2K   \u001b[90m━━━━━━━━━━━━━━━━━━━━━━━━━━━━━━━━━━━━━━━━\u001b[0m \u001b[32m294.8/294.8 kB\u001b[0m \u001b[31m14.8 MB/s\u001b[0m eta \u001b[36m0:00:00\u001b[0m\n",
      "\u001b[2K   \u001b[90m━━━━━━━━━━━━━━━━━━━━━━━━━━━━━━━━━━━━━━━━\u001b[0m \u001b[32m5.5/5.5 MB\u001b[0m \u001b[31m81.8 MB/s\u001b[0m eta \u001b[36m0:00:00\u001b[0m:00:01\u001b[0m\n",
      "\u001b[2K   \u001b[90m━━━━━━━━━━━━━━━━━━━━━━━━━━━━━━━━━━━━━━━━\u001b[0m \u001b[32m256.2/256.2 kB\u001b[0m \u001b[31m17.1 MB/s\u001b[0m eta \u001b[36m0:00:00\u001b[0m\n",
      "\u001b[?25h  Building wheel for basicsr (setup.py) ... \u001b[?25l\u001b[?25hdone\n",
      "Requirement already satisfied: basicsr>=1.4.2 in /usr/local/lib/python3.10/dist-packages (from -r /kaggle/working/Real-ESRGAN/requirements.txt (line 1)) (1.4.2)\n",
      "Collecting facexlib>=0.2.5 (from -r /kaggle/working/Real-ESRGAN/requirements.txt (line 2))\n",
      "  Downloading facexlib-0.3.0-py3-none-any.whl.metadata (4.6 kB)\n",
      "Collecting gfpgan>=1.3.5 (from -r /kaggle/working/Real-ESRGAN/requirements.txt (line 3))\n",
      "  Downloading gfpgan-1.3.8-py3-none-any.whl.metadata (12 kB)\n",
      "Requirement already satisfied: numpy in /usr/local/lib/python3.10/dist-packages (from -r /kaggle/working/Real-ESRGAN/requirements.txt (line 4)) (1.26.4)\n",
      "Requirement already satisfied: opencv-python in /usr/local/lib/python3.10/dist-packages (from -r /kaggle/working/Real-ESRGAN/requirements.txt (line 5)) (4.10.0.84)\n",
      "Requirement already satisfied: Pillow in /usr/local/lib/python3.10/dist-packages (from -r /kaggle/working/Real-ESRGAN/requirements.txt (line 6)) (11.0.0)\n",
      "Requirement already satisfied: torch>=1.7 in /usr/local/lib/python3.10/dist-packages (from -r /kaggle/working/Real-ESRGAN/requirements.txt (line 7)) (2.5.1+cu121)\n",
      "Requirement already satisfied: torchvision in /usr/local/lib/python3.10/dist-packages (from -r /kaggle/working/Real-ESRGAN/requirements.txt (line 8)) (0.20.1+cu121)\n",
      "Requirement already satisfied: tqdm in /usr/local/lib/python3.10/dist-packages (from -r /kaggle/working/Real-ESRGAN/requirements.txt (line 9)) (4.67.1)\n",
      "Requirement already satisfied: addict in /usr/local/lib/python3.10/dist-packages (from basicsr>=1.4.2->-r /kaggle/working/Real-ESRGAN/requirements.txt (line 1)) (2.4.0)\n",
      "Requirement already satisfied: future in /usr/local/lib/python3.10/dist-packages (from basicsr>=1.4.2->-r /kaggle/working/Real-ESRGAN/requirements.txt (line 1)) (1.0.0)\n",
      "Requirement already satisfied: lmdb in /usr/local/lib/python3.10/dist-packages (from basicsr>=1.4.2->-r /kaggle/working/Real-ESRGAN/requirements.txt (line 1)) (1.6.2)\n",
      "Requirement already satisfied: pyyaml in /usr/local/lib/python3.10/dist-packages (from basicsr>=1.4.2->-r /kaggle/working/Real-ESRGAN/requirements.txt (line 1)) (6.0.2)\n",
      "Requirement already satisfied: requests in /usr/local/lib/python3.10/dist-packages (from basicsr>=1.4.2->-r /kaggle/working/Real-ESRGAN/requirements.txt (line 1)) (2.32.3)\n",
      "Requirement already satisfied: scikit-image in /usr/local/lib/python3.10/dist-packages (from basicsr>=1.4.2->-r /kaggle/working/Real-ESRGAN/requirements.txt (line 1)) (0.25.0)\n",
      "Requirement already satisfied: scipy in /usr/local/lib/python3.10/dist-packages (from basicsr>=1.4.2->-r /kaggle/working/Real-ESRGAN/requirements.txt (line 1)) (1.13.1)\n",
      "Requirement already satisfied: tb-nightly in /usr/local/lib/python3.10/dist-packages (from basicsr>=1.4.2->-r /kaggle/working/Real-ESRGAN/requirements.txt (line 1)) (2.20.0a20250419)\n",
      "Requirement already satisfied: yapf in /usr/local/lib/python3.10/dist-packages (from basicsr>=1.4.2->-r /kaggle/working/Real-ESRGAN/requirements.txt (line 1)) (0.43.0)\n",
      "Collecting filterpy (from facexlib>=0.2.5->-r /kaggle/working/Real-ESRGAN/requirements.txt (line 2))\n",
      "  Downloading filterpy-1.4.5.zip (177 kB)\n",
      "\u001b[2K     \u001b[90m━━━━━━━━━━━━━━━━━━━━━━━━━━━━━━━━━━━━━━━━\u001b[0m \u001b[32m178.0/178.0 kB\u001b[0m \u001b[31m6.0 MB/s\u001b[0m eta \u001b[36m0:00:00\u001b[0m\n",
      "\u001b[?25h  Preparing metadata (setup.py) ... \u001b[?25l\u001b[?25hdone\n",
      "Requirement already satisfied: numba in /usr/local/lib/python3.10/dist-packages (from facexlib>=0.2.5->-r /kaggle/working/Real-ESRGAN/requirements.txt (line 2)) (0.60.0)\n",
      "Requirement already satisfied: mkl_fft in /usr/local/lib/python3.10/dist-packages (from numpy->-r /kaggle/working/Real-ESRGAN/requirements.txt (line 4)) (1.3.8)\n",
      "Requirement already satisfied: mkl_random in /usr/local/lib/python3.10/dist-packages (from numpy->-r /kaggle/working/Real-ESRGAN/requirements.txt (line 4)) (1.2.4)\n",
      "Requirement already satisfied: mkl_umath in /usr/local/lib/python3.10/dist-packages (from numpy->-r /kaggle/working/Real-ESRGAN/requirements.txt (line 4)) (0.1.1)\n",
      "Requirement already satisfied: mkl in /usr/local/lib/python3.10/dist-packages (from numpy->-r /kaggle/working/Real-ESRGAN/requirements.txt (line 4)) (2025.0.1)\n",
      "Requirement already satisfied: tbb4py in /usr/local/lib/python3.10/dist-packages (from numpy->-r /kaggle/working/Real-ESRGAN/requirements.txt (line 4)) (2022.0.0)\n",
      "Requirement already satisfied: mkl-service in /usr/local/lib/python3.10/dist-packages (from numpy->-r /kaggle/working/Real-ESRGAN/requirements.txt (line 4)) (2.4.1)\n",
      "Requirement already satisfied: filelock in /usr/local/lib/python3.10/dist-packages (from torch>=1.7->-r /kaggle/working/Real-ESRGAN/requirements.txt (line 7)) (3.17.0)\n",
      "Requirement already satisfied: typing-extensions>=4.8.0 in /usr/local/lib/python3.10/dist-packages (from torch>=1.7->-r /kaggle/working/Real-ESRGAN/requirements.txt (line 7)) (4.12.2)\n",
      "Requirement already satisfied: networkx in /usr/local/lib/python3.10/dist-packages (from torch>=1.7->-r /kaggle/working/Real-ESRGAN/requirements.txt (line 7)) (3.4.2)\n",
      "Requirement already satisfied: jinja2 in /usr/local/lib/python3.10/dist-packages (from torch>=1.7->-r /kaggle/working/Real-ESRGAN/requirements.txt (line 7)) (3.1.4)\n",
      "Requirement already satisfied: fsspec in /usr/local/lib/python3.10/dist-packages (from torch>=1.7->-r /kaggle/working/Real-ESRGAN/requirements.txt (line 7)) (2024.12.0)\n",
      "Requirement already satisfied: sympy==1.13.1 in /usr/local/lib/python3.10/dist-packages (from torch>=1.7->-r /kaggle/working/Real-ESRGAN/requirements.txt (line 7)) (1.13.1)\n",
      "Requirement already satisfied: mpmath<1.4,>=1.1.0 in /usr/local/lib/python3.10/dist-packages (from sympy==1.13.1->torch>=1.7->-r /kaggle/working/Real-ESRGAN/requirements.txt (line 7)) (1.3.0)\n",
      "Requirement already satisfied: matplotlib in /usr/local/lib/python3.10/dist-packages (from filterpy->facexlib>=0.2.5->-r /kaggle/working/Real-ESRGAN/requirements.txt (line 2)) (3.7.5)\n",
      "Requirement already satisfied: MarkupSafe>=2.0 in /usr/local/lib/python3.10/dist-packages (from jinja2->torch>=1.7->-r /kaggle/working/Real-ESRGAN/requirements.txt (line 7)) (3.0.2)\n",
      "Requirement already satisfied: intel-openmp>=2024 in /usr/local/lib/python3.10/dist-packages (from mkl->numpy->-r /kaggle/working/Real-ESRGAN/requirements.txt (line 4)) (2024.2.0)\n",
      "Requirement already satisfied: tbb==2022.* in /usr/local/lib/python3.10/dist-packages (from mkl->numpy->-r /kaggle/working/Real-ESRGAN/requirements.txt (line 4)) (2022.0.0)\n",
      "Requirement already satisfied: tcmlib==1.* in /usr/local/lib/python3.10/dist-packages (from tbb==2022.*->mkl->numpy->-r /kaggle/working/Real-ESRGAN/requirements.txt (line 4)) (1.2.0)\n",
      "Requirement already satisfied: intel-cmplr-lib-rt in /usr/local/lib/python3.10/dist-packages (from mkl_umath->numpy->-r /kaggle/working/Real-ESRGAN/requirements.txt (line 4)) (2024.2.0)\n",
      "Requirement already satisfied: llvmlite<0.44,>=0.43.0dev0 in /usr/local/lib/python3.10/dist-packages (from numba->facexlib>=0.2.5->-r /kaggle/working/Real-ESRGAN/requirements.txt (line 2)) (0.43.0)\n",
      "Requirement already satisfied: charset-normalizer<4,>=2 in /usr/local/lib/python3.10/dist-packages (from requests->basicsr>=1.4.2->-r /kaggle/working/Real-ESRGAN/requirements.txt (line 1)) (3.4.1)\n",
      "Requirement already satisfied: idna<4,>=2.5 in /usr/local/lib/python3.10/dist-packages (from requests->basicsr>=1.4.2->-r /kaggle/working/Real-ESRGAN/requirements.txt (line 1)) (3.10)\n",
      "Requirement already satisfied: urllib3<3,>=1.21.1 in /usr/local/lib/python3.10/dist-packages (from requests->basicsr>=1.4.2->-r /kaggle/working/Real-ESRGAN/requirements.txt (line 1)) (2.3.0)\n",
      "Requirement already satisfied: certifi>=2017.4.17 in /usr/local/lib/python3.10/dist-packages (from requests->basicsr>=1.4.2->-r /kaggle/working/Real-ESRGAN/requirements.txt (line 1)) (2025.1.31)\n",
      "Requirement already satisfied: imageio!=2.35.0,>=2.33 in /usr/local/lib/python3.10/dist-packages (from scikit-image->basicsr>=1.4.2->-r /kaggle/working/Real-ESRGAN/requirements.txt (line 1)) (2.36.1)\n",
      "Requirement already satisfied: tifffile>=2022.8.12 in /usr/local/lib/python3.10/dist-packages (from scikit-image->basicsr>=1.4.2->-r /kaggle/working/Real-ESRGAN/requirements.txt (line 1)) (2024.12.12)\n",
      "Requirement already satisfied: packaging>=21 in /usr/local/lib/python3.10/dist-packages (from scikit-image->basicsr>=1.4.2->-r /kaggle/working/Real-ESRGAN/requirements.txt (line 1)) (24.2)\n",
      "Requirement already satisfied: lazy-loader>=0.4 in /usr/local/lib/python3.10/dist-packages (from scikit-image->basicsr>=1.4.2->-r /kaggle/working/Real-ESRGAN/requirements.txt (line 1)) (0.4)\n",
      "Requirement already satisfied: absl-py>=0.4 in /usr/local/lib/python3.10/dist-packages (from tb-nightly->basicsr>=1.4.2->-r /kaggle/working/Real-ESRGAN/requirements.txt (line 1)) (1.4.0)\n",
      "Requirement already satisfied: grpcio>=1.48.2 in /usr/local/lib/python3.10/dist-packages (from tb-nightly->basicsr>=1.4.2->-r /kaggle/working/Real-ESRGAN/requirements.txt (line 1)) (1.68.1)\n",
      "Requirement already satisfied: markdown>=2.6.8 in /usr/local/lib/python3.10/dist-packages (from tb-nightly->basicsr>=1.4.2->-r /kaggle/working/Real-ESRGAN/requirements.txt (line 1)) (3.7)\n",
      "Requirement already satisfied: protobuf!=4.24.0,>=3.19.6 in /usr/local/lib/python3.10/dist-packages (from tb-nightly->basicsr>=1.4.2->-r /kaggle/working/Real-ESRGAN/requirements.txt (line 1)) (3.20.3)\n",
      "Requirement already satisfied: setuptools>=41.0.0 in /usr/local/lib/python3.10/dist-packages (from tb-nightly->basicsr>=1.4.2->-r /kaggle/working/Real-ESRGAN/requirements.txt (line 1)) (75.1.0)\n",
      "Requirement already satisfied: six>1.9 in /usr/local/lib/python3.10/dist-packages (from tb-nightly->basicsr>=1.4.2->-r /kaggle/working/Real-ESRGAN/requirements.txt (line 1)) (1.17.0)\n",
      "Requirement already satisfied: tensorboard-data-server<0.8.0,>=0.7.0 in /usr/local/lib/python3.10/dist-packages (from tb-nightly->basicsr>=1.4.2->-r /kaggle/working/Real-ESRGAN/requirements.txt (line 1)) (0.7.2)\n",
      "Requirement already satisfied: werkzeug>=1.0.1 in /usr/local/lib/python3.10/dist-packages (from tb-nightly->basicsr>=1.4.2->-r /kaggle/working/Real-ESRGAN/requirements.txt (line 1)) (3.1.3)\n",
      "Requirement already satisfied: platformdirs>=3.5.1 in /usr/local/lib/python3.10/dist-packages (from yapf->basicsr>=1.4.2->-r /kaggle/working/Real-ESRGAN/requirements.txt (line 1)) (4.3.6)\n",
      "Requirement already satisfied: tomli>=2.0.1 in /usr/local/lib/python3.10/dist-packages (from yapf->basicsr>=1.4.2->-r /kaggle/working/Real-ESRGAN/requirements.txt (line 1)) (2.2.1)\n",
      "Requirement already satisfied: intel-cmplr-lib-ur==2024.2.0 in /usr/local/lib/python3.10/dist-packages (from intel-openmp>=2024->mkl->numpy->-r /kaggle/working/Real-ESRGAN/requirements.txt (line 4)) (2024.2.0)\n",
      "Requirement already satisfied: contourpy>=1.0.1 in /usr/local/lib/python3.10/dist-packages (from matplotlib->filterpy->facexlib>=0.2.5->-r /kaggle/working/Real-ESRGAN/requirements.txt (line 2)) (1.3.1)\n",
      "Requirement already satisfied: cycler>=0.10 in /usr/local/lib/python3.10/dist-packages (from matplotlib->filterpy->facexlib>=0.2.5->-r /kaggle/working/Real-ESRGAN/requirements.txt (line 2)) (0.12.1)\n",
      "Requirement already satisfied: fonttools>=4.22.0 in /usr/local/lib/python3.10/dist-packages (from matplotlib->filterpy->facexlib>=0.2.5->-r /kaggle/working/Real-ESRGAN/requirements.txt (line 2)) (4.55.3)\n",
      "Requirement already satisfied: kiwisolver>=1.0.1 in /usr/local/lib/python3.10/dist-packages (from matplotlib->filterpy->facexlib>=0.2.5->-r /kaggle/working/Real-ESRGAN/requirements.txt (line 2)) (1.4.7)\n",
      "Requirement already satisfied: pyparsing>=2.3.1 in /usr/local/lib/python3.10/dist-packages (from matplotlib->filterpy->facexlib>=0.2.5->-r /kaggle/working/Real-ESRGAN/requirements.txt (line 2)) (3.2.0)\n",
      "Requirement already satisfied: python-dateutil>=2.7 in /usr/local/lib/python3.10/dist-packages (from matplotlib->filterpy->facexlib>=0.2.5->-r /kaggle/working/Real-ESRGAN/requirements.txt (line 2)) (2.9.0.post0)\n",
      "Downloading facexlib-0.3.0-py3-none-any.whl (59 kB)\n",
      "\u001b[2K   \u001b[90m━━━━━━━━━━━━━━━━━━━━━━━━━━━━━━━━━━━━━━━━\u001b[0m \u001b[32m59.6/59.6 kB\u001b[0m \u001b[31m3.9 MB/s\u001b[0m eta \u001b[36m0:00:00\u001b[0m\n",
      "\u001b[?25hDownloading gfpgan-1.3.8-py3-none-any.whl (52 kB)\n",
      "\u001b[2K   \u001b[90m━━━━━━━━━━━━━━━━━━━━━━━━━━━━━━━━━━━━━━━━\u001b[0m \u001b[32m52.2/52.2 kB\u001b[0m \u001b[31m3.1 MB/s\u001b[0m eta \u001b[36m0:00:00\u001b[0m\n",
      "\u001b[?25hBuilding wheels for collected packages: filterpy\n",
      "  Building wheel for filterpy (setup.py) ... \u001b[?25l\u001b[?25hdone\n",
      "  Created wheel for filterpy: filename=filterpy-1.4.5-py3-none-any.whl size=110458 sha256=d55a8ac3fe951cddca19a114eed24d130a0de7f076d231006670377b3cf93354\n",
      "  Stored in directory: /root/.cache/pip/wheels/0f/0c/ea/218f266af4ad626897562199fbbcba521b8497303200186102\n",
      "Successfully built filterpy\n",
      "Installing collected packages: filterpy, facexlib, gfpgan\n",
      "Successfully installed facexlib-0.3.0 filterpy-1.4.5 gfpgan-1.3.8\n",
      "/kaggle/working/Real-ESRGAN\n",
      "/usr/local/lib/python3.10/dist-packages/setuptools/__init__.py:94: _DeprecatedInstaller: setuptools.installer and fetch_build_eggs are deprecated.\n",
      "!!\n",
      "\n",
      "        ********************************************************************************\n",
      "        Requirements should be satisfied by a PEP 517 installer.\n",
      "        If you are using pip, you can try `pip install --use-pep517`.\n",
      "        ********************************************************************************\n",
      "\n",
      "!!\n",
      "  dist.fetch_build_eggs(dist.setup_requires)\n",
      "/usr/local/lib/python3.10/dist-packages/setuptools/command/develop.py:41: EasyInstallDeprecationWarning: easy_install command is deprecated.\n",
      "!!\n",
      "\n",
      "        ********************************************************************************\n",
      "        Please avoid running ``setup.py`` and ``easy_install``.\n",
      "        Instead, use pypa/build, pypa/installer or other\n",
      "        standards-based tools.\n",
      "\n",
      "        See https://github.com/pypa/setuptools/issues/917 for details.\n",
      "        ********************************************************************************\n",
      "\n",
      "!!\n",
      "  easy_install.initialize_options(self)\n",
      "/usr/local/lib/python3.10/dist-packages/setuptools/_distutils/cmd.py:66: SetuptoolsDeprecationWarning: setup.py install is deprecated.\n",
      "!!\n",
      "\n",
      "        ********************************************************************************\n",
      "        Please avoid running ``setup.py`` directly.\n",
      "        Instead, use pypa/build, pypa/installer or other\n",
      "        standards-based tools.\n",
      "\n",
      "        See https://blog.ganssle.io/articles/2021/10/setup-py-deprecated.html for details.\n",
      "        ********************************************************************************\n",
      "\n",
      "!!\n",
      "  self.initialize_options()\n",
      "/kaggle/working\n",
      "\u001b[2K   \u001b[90m━━━━━━━━━━━━━━━━━━━━━━━━━━━━━━━━━━━━━━━━\u001b[0m \u001b[32m21.0/21.0 MB\u001b[0m \u001b[31m58.7 MB/s\u001b[0m eta \u001b[36m0:00:00\u001b[0m00:01\u001b[0m:00:01\u001b[0m\n",
      "\u001b[2K   \u001b[90m━━━━━━━━━━━━━━━━━━━━━━━━━━━━━━━━━━━━━━━━\u001b[0m \u001b[32m750.6/750.6 MB\u001b[0m \u001b[31m2.2 MB/s\u001b[0m eta \u001b[36m0:00:00\u001b[0m0:00:01\u001b[0m00:01\u001b[0m\n",
      "\u001b[?25h\u001b[31mERROR: pip's dependency resolver does not currently take into account all the packages that are installed. This behaviour is the source of the following dependency conflicts.\n",
      "peft 0.14.0 requires torch>=1.13.0, but you have torch 1.11.0 which is incompatible.\n",
      "pytorch-lightning 2.5.0.post0 requires torch>=2.1.0, but you have torch 1.11.0 which is incompatible.\n",
      "stable-baselines3 2.1.0 requires torch>=1.13, but you have torch 1.11.0 which is incompatible.\n",
      "torchaudio 2.5.1+cu121 requires torch==2.5.1, but you have torch 1.11.0 which is incompatible.\n",
      "torchmetrics 1.6.1 requires torch>=2.0.0, but you have torch 1.11.0 which is incompatible.\u001b[0m\u001b[31m\n",
      "\u001b[0m"
     ]
    }
   ],
   "source": [
    "!pip uninstall -y -qq realesrgan\n",
    "!git clone -qq https://github.com/xinntao/Real-ESRGAN.git\n",
    "!pip install -qqq basicsr\n",
    "!pip install -r /kaggle/working/Real-ESRGAN/requirements.txt\n",
    "%cd Real-ESRGAN\n",
    "!python /kaggle/working/Real-ESRGAN/setup.py develop\n",
    "%cd /kaggle/working//\n",
    "!pip install -qqq torchvision==0.12.0"
   ]
  },
  {
   "cell_type": "markdown",
   "metadata": {},
   "source": [
    "# **Import Libraries**"
   ]
  },
  {
   "cell_type": "code",
   "execution_count": 13,
   "metadata": {
    "_cell_guid": "ec596f8f-6189-412a-b7e7-dee8ab19ac6e",
    "_uuid": "82fd4a83-5595-43af-8a79-1f35fb174552",
    "collapsed": false,
    "execution": {
     "iopub.execute_input": "2025-04-19T20:57:25.244401Z",
     "iopub.status.busy": "2025-04-19T20:57:25.244066Z",
     "iopub.status.idle": "2025-04-19T20:57:25.249863Z",
     "shell.execute_reply": "2025-04-19T20:57:25.248762Z",
     "shell.execute_reply.started": "2025-04-19T20:57:25.244376Z"
    },
    "jupyter": {
     "outputs_hidden": false
    },
    "trusted": true
   },
   "outputs": [],
   "source": [
    "import os\n",
    "import torch\n",
    "import cv2\n",
    "import numpy as np\n",
    "from PIL import Image\n",
    "import shutil\n",
    "from einops import rearrange\n",
    "os.environ['CUDA_LAUNCH_BLOCKING'] = '1'\n",
    "device = torch.device(\"cuda\" if torch.cuda.is_available() else \"cpu\")"
   ]
  },
  {
   "cell_type": "markdown",
   "metadata": {},
   "source": [
    "# **Load Pretrained Models**"
   ]
  },
  {
   "cell_type": "markdown",
   "metadata": {},
   "source": [
    "**Load YOLOv11s Object Detection Model**"
   ]
  },
  {
   "cell_type": "code",
   "execution_count": null,
   "metadata": {
    "_cell_guid": "d10230cd-2469-4abb-8ff2-40096e3b5267",
    "_uuid": "00436a88-6ddc-4731-b9dd-71a456e47b7a",
    "collapsed": false,
    "execution": {
     "iopub.execute_input": "2025-04-19T20:57:25.655809Z",
     "iopub.status.busy": "2025-04-19T20:57:25.655478Z",
     "iopub.status.idle": "2025-04-19T20:57:25.876674Z",
     "shell.execute_reply": "2025-04-19T20:57:25.875423Z",
     "shell.execute_reply.started": "2025-04-19T20:57:25.655784Z"
    },
    "jupyter": {
     "outputs_hidden": false
    },
    "trusted": true
   },
   "outputs": [
    {
     "name": "stdout",
     "output_type": "stream",
     "text": [
      "Creating new Ultralytics Settings v0.0.6 file ✅ \n",
      "View Ultralytics Settings with 'yolo settings' or at '/root/.config/Ultralytics/settings.json'\n",
      "Update Settings with 'yolo settings key=value', i.e. 'yolo settings runs_dir=path/to/dir'. For help see https://docs.ultralytics.com/quickstart/#ultralytics-settings.\n"
     ]
    }
   ],
   "source": [
    "from ultralytics import YOLO\n",
    "object_detection_model=YOLO(\"/kaggle/input/cs299-pre-trained-models/yolo11s_best.pt\")"
   ]
  },
  {
   "cell_type": "markdown",
   "metadata": {},
   "source": [
    "**Load Segment Anything Model (SAM)**"
   ]
  },
  {
   "cell_type": "code",
   "execution_count": 15,
   "metadata": {
    "_cell_guid": "f3ed76ec-5b67-4c9f-aaf1-e61cfb421aff",
    "_uuid": "ea19cf19-a7e4-48bc-b8ec-256e4894e894",
    "collapsed": false,
    "execution": {
     "iopub.execute_input": "2025-04-19T20:57:27.098830Z",
     "iopub.status.busy": "2025-04-19T20:57:27.098450Z",
     "iopub.status.idle": "2025-04-19T20:57:54.296535Z",
     "shell.execute_reply": "2025-04-19T20:57:54.295706Z",
     "shell.execute_reply.started": "2025-04-19T20:57:27.098793Z"
    },
    "jupyter": {
     "outputs_hidden": false
    },
    "trusted": true
   },
   "outputs": [],
   "source": [
    "from segment_anything import sam_model_registry,SamPredictor\n",
    "CHECKPOINT_PATH = os.path.join(\"/kaggle/input/cs299-pre-trained-models/sam_vit_h_4b8939.pth\")\n",
    "sam=sam_model_registry['vit_h'](checkpoint=CHECKPOINT_PATH).to(device=device)\n",
    "segmentation_model=SamPredictor(sam)"
   ]
  },
  {
   "cell_type": "markdown",
   "metadata": {},
   "source": [
    "**Load Autoencoder for Inpainting**"
   ]
  },
  {
   "cell_type": "code",
   "execution_count": 16,
   "metadata": {
    "_cell_guid": "591e39f1-9dd4-4674-b549-3536f1ebaaf3",
    "_uuid": "86719c8c-ad8b-4756-ae29-43bf2e19e8c3",
    "collapsed": false,
    "execution": {
     "iopub.execute_input": "2025-04-19T20:57:54.298492Z",
     "iopub.status.busy": "2025-04-19T20:57:54.298170Z",
     "iopub.status.idle": "2025-04-19T20:57:54.510377Z",
     "shell.execute_reply": "2025-04-19T20:57:54.509441Z",
     "shell.execute_reply.started": "2025-04-19T20:57:54.298466Z"
    },
    "jupyter": {
     "outputs_hidden": false
    },
    "trusted": true
   },
   "outputs": [],
   "source": [
    "import torch.nn as nn\n",
    "from torchvision import transforms\n",
    "from einops import rearrange\n",
    "\n",
    "class Autoencoder(nn.Module):\n",
    "    def __init__(self):\n",
    "        super().__init__()\n",
    "        self.encoder = nn.Sequential(\n",
    "            nn.Conv2d(3, 64, 4, stride=2, padding=1), nn.ReLU(),\n",
    "            nn.Conv2d(64, 128, 4, stride=2, padding=1), nn.ReLU(),\n",
    "            nn.Conv2d(128, 256, 4, stride=2, padding=1), nn.ReLU(),\n",
    "            nn.Conv2d(256, 512, 4, stride=2, padding=1), nn.ReLU(),\n",
    "            nn.Conv2d(512, 512, 4, stride=2, padding=1), nn.ReLU()\n",
    "        )\n",
    "        self.decoder = nn.Sequential(\n",
    "            nn.ConvTranspose2d(512, 512, 4, stride=2, padding=1), nn.ReLU(),\n",
    "            nn.ConvTranspose2d(512, 256, 4, stride=2, padding=1), nn.ReLU(),\n",
    "            nn.ConvTranspose2d(256, 128, 4, stride=2, padding=1), nn.ReLU(),\n",
    "            nn.ConvTranspose2d(128, 64, 4, stride=2, padding=1), nn.ReLU(),\n",
    "            nn.ConvTranspose2d(64, 3, 4, stride=2, padding=1), nn.Sigmoid()\n",
    "        )\n",
    "\n",
    "    def forward(self, x):\n",
    "        return self.decoder(self.encoder(x))\n",
    "        \n",
    "inpainting_model=Autoencoder()\n",
    "inpainting_model.load_state_dict(torch.load(\n",
    "    \"/kaggle/input/cs299-pre-trained-models/autoencoder_epoch_500.pth\",\n",
    "    map_location=device\n",
    "))\n",
    "\n",
    "inpainting_transformer=transforms.Compose([\n",
    "    transforms.Resize((128,128)),\n",
    "    transforms.ToTensor()\n",
    "    \n",
    "])"
   ]
  },
  {
   "cell_type": "markdown",
   "metadata": {},
   "source": [
    "**Load Real-ESRGAN for super-resolution**"
   ]
  },
  {
   "cell_type": "code",
   "execution_count": 17,
   "metadata": {
    "_cell_guid": "1f09b1e4-c5a6-4828-b1f6-6cc5e5510b0a",
    "_uuid": "0688678e-6236-472a-99ac-16e54a3d9de1",
    "collapsed": false,
    "execution": {
     "iopub.execute_input": "2025-04-19T20:57:54.512031Z",
     "iopub.status.busy": "2025-04-19T20:57:54.511766Z",
     "iopub.status.idle": "2025-04-19T20:57:55.026030Z",
     "shell.execute_reply": "2025-04-19T20:57:55.024950Z",
     "shell.execute_reply.started": "2025-04-19T20:57:54.512004Z"
    },
    "jupyter": {
     "outputs_hidden": false
    },
    "trusted": true
   },
   "outputs": [],
   "source": [
    "import torch\n",
    "from basicsr.archs.rrdbnet_arch import RRDBNet\n",
    "\n",
    "import sys\n",
    "sys.path.append('/kaggle/working/Real-ESRGAN')\n",
    "\n",
    "from realesrgan import RealESRGANer\n",
    "from PIL import Image\n",
    "import numpy as np\n",
    "\n",
    "superresolution_model=RRDBNet(num_in_ch=3,num_out_ch=3,num_feat=64,num_block=23,num_grow_ch=32,scale=1000)\n",
    "\n",
    "superresolution_upscaler=RealESRGANer(\n",
    "    scale=10000,\n",
    "    model_path='/kaggle/input/cs299-pre-trained-models/RealESRGAN_x4plus.pth',\n",
    "    model=superresolution_model,\n",
    "    tile=0,tile_pad=100,\n",
    "    pre_pad=0,half=False\n",
    ")"
   ]
  },
  {
   "cell_type": "markdown",
   "metadata": {},
   "source": [
    "# **Define Processing Functions**"
   ]
  },
  {
   "cell_type": "markdown",
   "metadata": {},
   "source": [
    "**Object Detection using YOLO**"
   ]
  },
  {
   "cell_type": "code",
   "execution_count": 18,
   "metadata": {
    "_cell_guid": "5e5e1e1c-a814-4138-8210-96befde48cb7",
    "_uuid": "b77bebb4-1350-4f98-9794-09da0eebea19",
    "collapsed": false,
    "execution": {
     "iopub.execute_input": "2025-04-19T20:57:55.029109Z",
     "iopub.status.busy": "2025-04-19T20:57:55.028771Z",
     "iopub.status.idle": "2025-04-19T20:57:55.037902Z",
     "shell.execute_reply": "2025-04-19T20:57:55.037038Z",
     "shell.execute_reply.started": "2025-04-19T20:57:55.029079Z"
    },
    "jupyter": {
     "outputs_hidden": false
    },
    "trusted": true
   },
   "outputs": [],
   "source": [
    "def object_detection_function(model,image_path,detected,cropped,box_folder):\n",
    "    results=model(image_path)[0]\n",
    "    \n",
    "    image=cv2.imread(image_path)\n",
    "    image=cv2.cvtColor(image,cv2.COLOR_BGR2RGB)\n",
    "    height,width,_=image.shape\n",
    "\n",
    "    for i,box in enumerate(results.boxes):\n",
    "        x1,y1,x2,y2=map(int,box.xyxy[0])\n",
    "        conf=box.conf[0].item()\n",
    "        new_image=image.copy()\n",
    "        cv2.rectangle(new_image,(x1,y1),(x2,y2),(0,255,0),5)\n",
    "        \n",
    "        new_image=Image.fromarray(new_image)\n",
    "        save_path=os.path.join(detected,f'{i+1}.jpg')\n",
    "        new_image.save(save_path,format='JPEG')\n",
    "\n",
    "        cropped_image=image[y1:y2,x1:x2]\n",
    "        cropped_image=Image.fromarray(cropped_image)\n",
    "        save_path=os.path.join(cropped,f'{i+1}.jpg')\n",
    "        cropped_image.save(save_path,format='JPEG')\n",
    "\n",
    "        bbox_filename=os.path.join(box_folder,f'{i+1}.txt')\n",
    "        with open(bbox_filename,'w') as f:\n",
    "            f.write(f\"{x1} {y1} {x2} {y2}\\n\")"
   ]
  },
  {
   "cell_type": "markdown",
   "metadata": {},
   "source": [
    "**Segmentation using SAM**"
   ]
  },
  {
   "cell_type": "code",
   "execution_count": 19,
   "metadata": {
    "_cell_guid": "fdc086e4-ebc8-49ae-b571-7f855869cb47",
    "_uuid": "91681bab-441c-4293-9d70-2360858048f2",
    "collapsed": false,
    "execution": {
     "iopub.execute_input": "2025-04-19T20:57:55.039063Z",
     "iopub.status.busy": "2025-04-19T20:57:55.038790Z",
     "iopub.status.idle": "2025-04-19T20:57:55.056422Z",
     "shell.execute_reply": "2025-04-19T20:57:55.055607Z",
     "shell.execute_reply.started": "2025-04-19T20:57:55.039042Z"
    },
    "jupyter": {
     "outputs_hidden": false
    },
    "trusted": true
   },
   "outputs": [],
   "source": [
    "def segmentation_function(model,image_path,segmented,box_folder):\n",
    "    image=cv2.imread(image_path)\n",
    "    height,width,_=image.shape\n",
    "    image=cv2.cvtColor(image,cv2.COLOR_BGR2RGB)\n",
    "    model.set_image(image)\n",
    "    \n",
    "    for box_file in os.listdir(box_folder):\n",
    "        box_file=os.path.join(box_folder,box_file)\n",
    "        with open(box_file,'r') as f:\n",
    "            line=f.readline().strip()\n",
    "            x1,y1,x2,y2=map(int,line.split())\n",
    "\n",
    "        box=np.array([x1,y1,x2,y2])\n",
    "        masks,scores,logits = model.predict(\n",
    "            box=box,\n",
    "            multimask_output=True\n",
    "        )\n",
    "        mask=masks[0]\n",
    "        for i in range(1,len(masks)):\n",
    "            mask+=masks[i]\n",
    "        # mask_image=Image.fromarray((mask*255).astype(\"uint8\"))\n",
    "\n",
    "        masked_image=np.zeros_like(image)\n",
    "        masked_image[mask]=image[mask]\n",
    "        masked_image=masked_image[y1:y2,x1:x2]\n",
    "        segmented_object=Image.fromarray(masked_image)\n",
    "        \n",
    "        save_path=os.path.basename(box_file).replace('.txt','.png')\n",
    "        save_path=os.path.join(segmented,save_path)\n",
    "        segmented_object.save(save_path)"
   ]
  },
  {
   "cell_type": "markdown",
   "metadata": {},
   "source": [
    "**Inpainting using Autoencoder**"
   ]
  },
  {
   "cell_type": "code",
   "execution_count": 20,
   "metadata": {
    "_cell_guid": "adf76a6e-d461-4720-a16e-b80c637e8d9f",
    "_uuid": "47f73e33-d489-494e-9c67-54ca1ee9b38a",
    "collapsed": false,
    "execution": {
     "iopub.execute_input": "2025-04-19T20:57:55.058102Z",
     "iopub.status.busy": "2025-04-19T20:57:55.057817Z",
     "iopub.status.idle": "2025-04-19T20:57:55.073746Z",
     "shell.execute_reply": "2025-04-19T20:57:55.072780Z",
     "shell.execute_reply.started": "2025-04-19T20:57:55.058076Z"
    },
    "jupyter": {
     "outputs_hidden": false
    },
    "trusted": true
   },
   "outputs": [],
   "source": [
    "def inpainting_function(model,segmented,inpainted,transformer):\n",
    "    model.eval()\n",
    "    for segmented_image in os.listdir(segmented):\n",
    "        input_data=Image.open(os.path.join(segmented,segmented_image))\n",
    "        transformed_image=transformer(input_data).unsqueeze(0)\n",
    "    \n",
    "        with torch.no_grad():\n",
    "            output=model(transformed_image)\n",
    "        output=output.squeeze(0).cpu().detach().numpy()\n",
    "        output=rearrange(output,'c h w-> h w c')\n",
    "        output=output.clip(0,1)\n",
    "        output=(output*255).astype(np.uint8)\n",
    "        output=Image.fromarray(output)\n",
    "        save_path=os.path.basename(segmented_image)\n",
    "        save_path=os.path.join(inpainted,save_path)\n",
    "        output.save(save_path)"
   ]
  },
  {
   "cell_type": "markdown",
   "metadata": {},
   "source": [
    "**Super-resolution using Real-ESRGAN**"
   ]
  },
  {
   "cell_type": "code",
   "execution_count": 21,
   "metadata": {
    "_cell_guid": "ebd04961-9348-4b24-b529-26888a1d153e",
    "_uuid": "a252f7d4-a5f4-46c4-aa50-c0dfd75f3c76",
    "collapsed": false,
    "execution": {
     "iopub.execute_input": "2025-04-19T20:57:55.074834Z",
     "iopub.status.busy": "2025-04-19T20:57:55.074560Z",
     "iopub.status.idle": "2025-04-19T20:57:55.091064Z",
     "shell.execute_reply": "2025-04-19T20:57:55.090243Z",
     "shell.execute_reply.started": "2025-04-19T20:57:55.074813Z"
    },
    "jupyter": {
     "outputs_hidden": false
    },
    "trusted": true
   },
   "outputs": [],
   "source": [
    "def superresolution_function(upscaler,inpainted_folder,superresolution_folder):\n",
    "    for inpainted_file in os.listdir(inpainted_folder):\n",
    "        image=Image.open(os.path.join(inpainted_folder,inpainted_file))\n",
    "        image=np.array(image)\n",
    "        output,_=upscaler.enhance(image,outscale=10)\n",
    "        save_path=os.path.basename(inpainted_file)\n",
    "        save_path=os.path.join(superresolution_folder,save_path)\n",
    "        Image.fromarray(output).save(save_path)"
   ]
  },
  {
   "cell_type": "markdown",
   "metadata": {},
   "source": [
    "# **Run the fun pipeline on Test Samples**"
   ]
  },
  {
   "cell_type": "markdown",
   "metadata": {},
   "source": [
    "**Define Input Image**"
   ]
  },
  {
   "cell_type": "code",
   "execution_count": 26,
   "metadata": {
    "execution": {
     "iopub.execute_input": "2025-04-19T21:13:20.326085Z",
     "iopub.status.busy": "2025-04-19T21:13:20.325758Z",
     "iopub.status.idle": "2025-04-19T21:13:20.329939Z",
     "shell.execute_reply": "2025-04-19T21:13:20.329123Z",
     "shell.execute_reply.started": "2025-04-19T21:13:20.326063Z"
    },
    "trusted": true
   },
   "outputs": [],
   "source": [
    "files=['/kaggle/input/dataset-image-label-visiblemask-occludedmask/images/train/2301.jpg']"
   ]
  },
  {
   "cell_type": "code",
   "execution_count": 27,
   "metadata": {
    "execution": {
     "iopub.execute_input": "2025-04-19T21:13:22.862678Z",
     "iopub.status.busy": "2025-04-19T21:13:22.862363Z",
     "iopub.status.idle": "2025-04-19T21:13:40.260612Z",
     "shell.execute_reply": "2025-04-19T21:13:40.259925Z",
     "shell.execute_reply.started": "2025-04-19T21:13:22.862653Z"
    },
    "trusted": true
   },
   "outputs": [
    {
     "name": "stdout",
     "output_type": "stream",
     "text": [
      "\n",
      "image 1/1 /kaggle/input/dataset-image-label-visiblemask-occludedmask/images/train/2301.jpg: 480x640 15 items, 16.4ms\n",
      "Speed: 1.6ms preprocess, 16.4ms inference, 1.8ms postprocess per image at shape (1, 3, 480, 640)\n"
     ]
    }
   ],
   "source": [
    "for file in files:\n",
    "    image_path=os.path.join(file)\n",
    "\n",
    "    #Create output folders\n",
    "    output_path=os.path.splitext(os.path.basename(image_path))[0]\n",
    "    os.makedirs(os.path.join(output_path,\"detected_object\"),exist_ok=True)\n",
    "    os.makedirs(os.path.join(output_path,\"cropped_object\"),exist_ok=True)\n",
    "    os.makedirs(os.path.join(output_path,\"segmented_object\"),exist_ok=True)\n",
    "    os.makedirs(os.path.join(output_path,\"inpainted_object\"),exist_ok=True)\n",
    "    os.makedirs(os.path.join(output_path,\"superresoluted_object_1\"),exist_ok=True)\n",
    "    os.makedirs(os.path.join(output_path,\"superresoluted_object_2\"),exist_ok=True)\n",
    "    os.makedirs(os.path.join(output_path,\"bbox\"),exist_ok=True)\n",
    "\n",
    "    #Define folder paths\n",
    "    detected_folder_path=os.path.join(output_path,\"detected_object\")\n",
    "    cropped_folder_path=os.path.join(output_path,\"cropped_object\")\n",
    "    segmented_folder_path=os.path.join(output_path,\"segmented_object\")\n",
    "    inpainted_folder_path=os.path.join(output_path,\"inpainted_object\")\n",
    "    superresolution_folder_path_1=os.path.join(output_path,\"superresoluted_object_1\")\n",
    "    superresolution_folder_path_2=os.path.join(output_path,\"superresoluted_object_2\")\n",
    "    bbox_folder_path=os.path.join(output_path,\"bbox\")\n",
    "\n",
    "    #Run pipeline\n",
    "    object_detection_function(object_detection_model,image_path,detected_folder_path,cropped_folder_path,bbox_folder_path)\n",
    "    segmentation_function(segmentation_model,image_path,segmented_folder_path,bbox_folder_path)\n",
    "    superresolution_function(superresolution_upscaler,segmented_folder_path,superresolution_folder_path_1)\n",
    "    inpainting_function(inpainting_model,superresolution_folder_path_1,inpainted_folder_path,inpainting_transformer)\n",
    "    superresolution_function(superresolution_upscaler,inpainted_folder_path,superresolution_folder_path_2)\n",
    "    \n",
    "    #Zip Results\n",
    "    shutil.make_archive(output_path,\"zip\",os.path.join(output_path))"
   ]
  }
 ],
 "metadata": {
  "kaggle": {
   "accelerator": "gpu",
   "dataSources": [
    {
     "datasetId": 7036864,
     "sourceId": 11259240,
     "sourceType": "datasetVersion"
    },
    {
     "datasetId": 7155947,
     "sourceId": 11433102,
     "sourceType": "datasetVersion"
    },
    {
     "datasetId": 6994555,
     "sourceId": 11478502,
     "sourceType": "datasetVersion"
    }
   ],
   "dockerImageVersionId": 30918,
   "isGpuEnabled": true,
   "isInternetEnabled": true,
   "language": "python",
   "sourceType": "notebook"
  },
  "kernelspec": {
   "display_name": "Python 3",
   "language": "python",
   "name": "python3"
  },
  "language_info": {
   "codemirror_mode": {
    "name": "ipython",
    "version": 3
   },
   "file_extension": ".py",
   "mimetype": "text/x-python",
   "name": "python",
   "nbconvert_exporter": "python",
   "pygments_lexer": "ipython3",
   "version": "3.10.12"
  }
 },
 "nbformat": 4,
 "nbformat_minor": 4
}
